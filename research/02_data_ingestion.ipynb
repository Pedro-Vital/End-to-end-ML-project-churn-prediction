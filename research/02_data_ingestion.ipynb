{
 "cells": [
  {
   "cell_type": "markdown",
   "id": "8f3ddb89",
   "metadata": {},
   "source": [
    "#### **At the very first, we will implement content from different production files inside the this research.**\n",
    "\n",
    "**Workflow**\n",
    "1. update config.yaml\n",
    "2. update schema.yaml\n",
    "3. update params.yaml\n",
    "4. update the entity\n",
    "5. update the configuration manager in src config\n",
    "6. update the components\n",
    "7. update the pipeline\n",
    "8. update the main.py\n",
    "9. update the app.py"
   ]
  },
  {
   "cell_type": "code",
   "execution_count": 1,
   "id": "fcaa15a8",
   "metadata": {},
   "outputs": [
    {
     "data": {
      "text/plain": [
       "'c:\\\\Users\\\\plvit\\\\Desktop\\\\projects-portfolio\\\\churn-project\\\\research'"
      ]
     },
     "execution_count": 1,
     "metadata": {},
     "output_type": "execute_result"
    }
   ],
   "source": [
    "%pwd"
   ]
  },
  {
   "cell_type": "code",
   "execution_count": 2,
   "id": "3b8f6f28",
   "metadata": {},
   "outputs": [],
   "source": [
    "import os\n",
    "os.chdir(\"../\")"
   ]
  },
  {
   "cell_type": "code",
   "execution_count": 3,
   "id": "39417458",
   "metadata": {},
   "outputs": [
    {
     "data": {
      "text/plain": [
       "'c:\\\\Users\\\\plvit\\\\Desktop\\\\projects-portfolio\\\\churn-project'"
      ]
     },
     "execution_count": 3,
     "metadata": {},
     "output_type": "execute_result"
    }
   ],
   "source": [
    "%pwd # Now we are in the project root directory"
   ]
  },
  {
   "cell_type": "markdown",
   "id": "1e2b2362",
   "metadata": {},
   "source": [
    "Creating **entity** for data ingestion configuration. It's going to be the return type of our data ingestion component."
   ]
  },
  {
   "cell_type": "code",
   "execution_count": 4,
   "id": "0269547d",
   "metadata": {},
   "outputs": [],
   "source": [
    "from dataclasses import dataclass\n",
    "from pathlib import Path\n",
    "\n",
    "@dataclass(frozen=True)\n",
    "class DataIngestionConfig:\n",
    "    root_dir: Path\n",
    "    db_host: str\n",
    "    db_user: str\n",
    "    db_password: str\n",
    "    db_name: str\n",
    "    query: str\n"
   ]
  },
  {
   "cell_type": "markdown",
   "id": "b81f82fb",
   "metadata": {},
   "source": [
    "The **configuration manager** is responsible for reading the configuration files and providing configuration objects. It will give us the file path or database connection details or any other configuration needed for different components of the project."
   ]
  },
  {
   "cell_type": "code",
   "execution_count": 5,
   "id": "e177ba6a",
   "metadata": {},
   "outputs": [],
   "source": [
    "from churn_project.constants import CONFIG_FILE_PATH, SCHEMA_FILE_PATH, PARAMS_FILE_PATH\n",
    "from churn_project.utils import read_yaml, create_directories\n",
    "\n",
    "class ConfigurationManager:\n",
    "    def __init__(\n",
    "        self,\n",
    "        config_filepath = CONFIG_FILE_PATH,\n",
    "        params_filepath = PARAMS_FILE_PATH,\n",
    "        schema_filepath = SCHEMA_FILE_PATH):\n",
    "\n",
    "        self.config = read_yaml(config_filepath)\n",
    "        self.params = read_yaml(params_filepath)\n",
    "        self.schema = read_yaml(schema_filepath)\n",
    "\n",
    "        create_directories([self.config.artifacts_root])\n",
    "    \n",
    "    def get_data_ingestion_config(self) -> DataIngestionConfig:\n",
    "        config = self.config.data_ingestion\n",
    "\n",
    "        create_directories([config.root_dir]) # Creates another folder inside artifacts/data_ingestion\n",
    "\n",
    "        data_ingestion_config = DataIngestionConfig(\n",
    "            root_dir=config.root_dir,\n",
    "            db_host=config.db_host,\n",
    "            db_user=config.db_user,\n",
    "            db_password=config.db_password,\n",
    "            db_name=config.db_name,\n",
    "            query=config.query\n",
    "        )\n",
    "\n",
    "        return data_ingestion_config\n"
   ]
  },
  {
   "cell_type": "markdown",
   "id": "a9d1368e",
   "metadata": {},
   "source": [
    "Now we will create the data ingestion **component**"
   ]
  },
  {
   "cell_type": "code",
   "execution_count": 6,
   "id": "dfd86b32",
   "metadata": {},
   "outputs": [],
   "source": [
    "import sys\n",
    "import os\n",
    "import csv\n",
    "from churn_project.logger import logger\n",
    "from churn_project.utils import get_size\n",
    "import pymysql\n",
    "from churn_project.exception import CustomException"
   ]
  },
  {
   "cell_type": "code",
   "execution_count": 7,
   "id": "5e4d2742",
   "metadata": {},
   "outputs": [],
   "source": [
    "class DataIngestion:\n",
    "    def __init__(self, config: DataIngestionConfig):\n",
    "        self.config = config\n",
    "\n",
    "    def fetch_data(self) -> str:\n",
    "        logger.info(\"Starting data ingestion process\")\n",
    "\n",
    "        # Connect to the database\n",
    "        connection = pymysql.connect(\n",
    "            host=self.config.db_host,\n",
    "            user=self.config.db_user,\n",
    "            password=self.config.db_password,\n",
    "            database=self.config.db_name\n",
    "        )\n",
    "\n",
    "        try:\n",
    "            with connection.cursor() as cursor:\n",
    "                cursor.execute(self.config.query)\n",
    "                data = cursor.fetchall()\n",
    "                logger.info(\"Data fetched successfully from MySQL database.\")\n",
    "                return data\n",
    "                # # Write data to CSV file\n",
    "                # csv_file_path = os.path.join(self.config.root_dir, \"ingested_data.csv\")\n",
    "                # with open(csv_file_path, mode='w', newline='') as file:\n",
    "                #     writer = csv.writer(file)\n",
    "                #     writer.writerows(data)\n",
    "\n",
    "                # logger.info(f\"Data ingestion completed. File saved at: {csv_file_path} with size: {get_size(csv_file_path)}\")\n",
    "\n",
    "                # return csv_file_path\n",
    "                # Better to save csv in a separate method\n",
    "        except Exception as e:\n",
    "            logger.error(f\"Error during data ingestion: {e}\")\n",
    "            raise CustomException(e, sys)\n",
    "        \n",
    "        finally:\n",
    "            connection.close()\n",
    "        \n",
    "    def save_data_to_csv(self, data) -> Path:\n",
    "        try:\n",
    "            csv_file_path = Path(self.config.root_dir) / \"ingested_data.csv\"\n",
    "            logger.info(f\"Saving data to {csv_file_path}\")\n",
    "\n",
    "            with csv_file_path.open(mode='w', newline='') as file:\n",
    "                writer = csv.writer(file)\n",
    "                writer.writerows(data)\n",
    "\n",
    "            logger.info(f\"Data saved to {csv_file_path} with size {get_size(csv_file_path)}\")\n",
    "            return csv_file_path\n",
    "        except Exception as e:\n",
    "            logger.error(f\"Error saving data to CSV: {e}\")\n",
    "            raise CustomException(e, sys)\n",
    "    "
   ]
  },
  {
   "cell_type": "code",
   "execution_count": 8,
   "id": "11f72bb5",
   "metadata": {},
   "outputs": [
    {
     "name": "stdout",
     "output_type": "stream",
     "text": [
      "[2025-10-28 19:31:17,130: INFO: utils: yaml file: config\\config.yaml loaded successfully]\n",
      "[2025-10-28 19:31:17,141: INFO: utils: yaml file: config\\params.yaml loaded successfully]\n",
      "[2025-10-28 19:31:17,152: INFO: utils: yaml file: config\\schema.yaml loaded successfully]\n",
      "[2025-10-28 19:31:17,152: INFO: utils: created directory at: artifacts]\n",
      "[2025-10-28 19:31:17,165: INFO: utils: created directory at: artifacts/data_ingestion]\n",
      "[2025-10-28 19:31:17,165: INFO: 745233977: Starting data ingestion process]\n",
      "[2025-10-28 19:31:17,979: INFO: 745233977: Data fetched successfully from MySQL database.]\n",
      "[2025-10-28 19:31:17,990: INFO: 745233977: Saving data to artifacts\\data_ingestion\\ingested_data.csv]\n",
      "[2025-10-28 19:31:18,111: INFO: 745233977: Data saved to artifacts\\data_ingestion\\ingested_data.csv with size ~ 1185 KB]\n"
     ]
    }
   ],
   "source": [
    "try:\n",
    "    config_manager = ConfigurationManager()\n",
    "    data_ingestion_config = config_manager.get_data_ingestion_config()\n",
    "    data_ingestion = DataIngestion(config=data_ingestion_config)\n",
    "    data = data_ingestion.fetch_data()\n",
    "    csv_file_path = data_ingestion.save_data_to_csv(data)\n",
    "except Exception as e:\n",
    "    raise e\n"
   ]
  }
 ],
 "metadata": {
  "kernelspec": {
   "display_name": "churn-project-hdW-9K0Z-py3.12",
   "language": "python",
   "name": "python3"
  },
  "language_info": {
   "codemirror_mode": {
    "name": "ipython",
    "version": 3
   },
   "file_extension": ".py",
   "mimetype": "text/x-python",
   "name": "python",
   "nbconvert_exporter": "python",
   "pygments_lexer": "ipython3",
   "version": "3.12.7"
  }
 },
 "nbformat": 4,
 "nbformat_minor": 5
}
